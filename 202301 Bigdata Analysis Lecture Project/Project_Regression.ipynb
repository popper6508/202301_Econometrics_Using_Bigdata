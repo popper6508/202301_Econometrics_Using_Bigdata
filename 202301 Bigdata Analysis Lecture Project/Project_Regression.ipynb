{
 "cells": [
  {
   "attachments": {},
   "cell_type": "markdown",
   "metadata": {},
   "source": [
    "## Regression test"
   ]
  },
  {
   "cell_type": "code",
   "execution_count": 1,
   "metadata": {},
   "outputs": [],
   "source": [
    "import numpy as np\n",
    "import pandas as pd\n",
    "import statsmodels.api as sm\n",
    "import statsmodels.formula.api as smf\n",
    "import matplotlib as mpl\n",
    "import matplotlib.pyplot as plt"
   ]
  },
  {
   "cell_type": "code",
   "execution_count": 2,
   "metadata": {},
   "outputs": [],
   "source": [
    "data_for_reg1 = pd.read_excel(\"minus_factors_new.xlsx\", index_col= 0)\n",
    "data_for_reg2 = pd.read_excel(\"factors.xlsx\",index_col= 0)\n",
    "data_for_reg1.columns = ['NewFactor']\n",
    "data_for_control = pd.read_excel(\"Re_t_new_merge.xlsx\",index_col= 0)"
   ]
  },
  {
   "cell_type": "code",
   "execution_count": 3,
   "metadata": {},
   "outputs": [],
   "source": [
    "data_for_control['남성_pop'] = data_for_control['남성_pop']/data_for_control['total_pop']"
   ]
  },
  {
   "cell_type": "code",
   "execution_count": 4,
   "metadata": {},
   "outputs": [],
   "source": [
    "controal_va = data_for_control[['남성_pop', '2022_투표율', '야당비율_2022', '50_pop']]"
   ]
  },
  {
   "cell_type": "code",
   "execution_count": 5,
   "metadata": {},
   "outputs": [
    {
     "data": {
      "text/plain": [
       "남성_pop       0\n",
       "2022_투표율     0\n",
       "야당비율_2022    0\n",
       "50_pop       0\n",
       "dtype: int64"
      ]
     },
     "execution_count": 5,
     "metadata": {},
     "output_type": "execute_result"
    }
   ],
   "source": [
    "np.isinf(data_for_control[['남성_pop', '2022_투표율','야당비율_2022','50_pop']]).sum()"
   ]
  },
  {
   "cell_type": "code",
   "execution_count": 6,
   "metadata": {},
   "outputs": [
    {
     "data": {
      "text/html": [
       "<div>\n",
       "<style scoped>\n",
       "    .dataframe tbody tr th:only-of-type {\n",
       "        vertical-align: middle;\n",
       "    }\n",
       "\n",
       "    .dataframe tbody tr th {\n",
       "        vertical-align: top;\n",
       "    }\n",
       "\n",
       "    .dataframe thead th {\n",
       "        text-align: right;\n",
       "    }\n",
       "</style>\n",
       "<table border=\"1\" class=\"dataframe\">\n",
       "  <thead>\n",
       "    <tr style=\"text-align: right;\">\n",
       "      <th></th>\n",
       "      <th>남성_pop</th>\n",
       "      <th>2022_투표율</th>\n",
       "      <th>야당비율_2022</th>\n",
       "      <th>50_pop</th>\n",
       "      <th>NewFactor</th>\n",
       "      <th>factor1</th>\n",
       "      <th>factor2</th>\n",
       "      <th>factor3</th>\n",
       "      <th>factor4</th>\n",
       "    </tr>\n",
       "  </thead>\n",
       "  <tbody>\n",
       "    <tr>\n",
       "      <th>가평군</th>\n",
       "      <td>0.512024</td>\n",
       "      <td>0.764357</td>\n",
       "      <td>0.603225</td>\n",
       "      <td>0.566721</td>\n",
       "      <td>0.556088</td>\n",
       "      <td>1.570255</td>\n",
       "      <td>0.714038</td>\n",
       "      <td>-1.182049</td>\n",
       "      <td>1.287469</td>\n",
       "    </tr>\n",
       "    <tr>\n",
       "      <th>강릉시</th>\n",
       "      <td>0.500203</td>\n",
       "      <td>0.762683</td>\n",
       "      <td>0.612755</td>\n",
       "      <td>0.480245</td>\n",
       "      <td>-0.270361</td>\n",
       "      <td>-0.313803</td>\n",
       "      <td>-0.484991</td>\n",
       "      <td>0.204273</td>\n",
       "      <td>0.496674</td>\n",
       "    </tr>\n",
       "    <tr>\n",
       "      <th>강진군</th>\n",
       "      <td>0.485489</td>\n",
       "      <td>0.824524</td>\n",
       "      <td>0.146723</td>\n",
       "      <td>0.643763</td>\n",
       "      <td>1.510306</td>\n",
       "      <td>0.460763</td>\n",
       "      <td>0.087739</td>\n",
       "      <td>1.625572</td>\n",
       "      <td>1.066558</td>\n",
       "    </tr>\n",
       "    <tr>\n",
       "      <th>거제시</th>\n",
       "      <td>0.531861</td>\n",
       "      <td>0.749616</td>\n",
       "      <td>0.553038</td>\n",
       "      <td>0.360444</td>\n",
       "      <td>-0.579075</td>\n",
       "      <td>-0.887245</td>\n",
       "      <td>0.298740</td>\n",
       "      <td>-1.447908</td>\n",
       "      <td>1.792103</td>\n",
       "    </tr>\n",
       "    <tr>\n",
       "      <th>거창군</th>\n",
       "      <td>0.495138</td>\n",
       "      <td>0.780392</td>\n",
       "      <td>0.707828</td>\n",
       "      <td>0.567560</td>\n",
       "      <td>0.701705</td>\n",
       "      <td>-0.578207</td>\n",
       "      <td>0.492551</td>\n",
       "      <td>0.663532</td>\n",
       "      <td>0.408516</td>\n",
       "    </tr>\n",
       "  </tbody>\n",
       "</table>\n",
       "</div>"
      ],
      "text/plain": [
       "       남성_pop  2022_투표율  야당비율_2022    50_pop  NewFactor   factor1   factor2  \\\n",
       "가평군  0.512024  0.764357   0.603225  0.566721   0.556088  1.570255  0.714038   \n",
       "강릉시  0.500203  0.762683   0.612755  0.480245  -0.270361 -0.313803 -0.484991   \n",
       "강진군  0.485489  0.824524   0.146723  0.643763   1.510306  0.460763  0.087739   \n",
       "거제시  0.531861  0.749616   0.553038  0.360444  -0.579075 -0.887245  0.298740   \n",
       "거창군  0.495138  0.780392   0.707828  0.567560   0.701705 -0.578207  0.492551   \n",
       "\n",
       "      factor3   factor4  \n",
       "가평군 -1.182049  1.287469  \n",
       "강릉시  0.204273  0.496674  \n",
       "강진군  1.625572  1.066558  \n",
       "거제시 -1.447908  1.792103  \n",
       "거창군  0.663532  0.408516  "
      ]
     },
     "execution_count": 6,
     "metadata": {},
     "output_type": "execute_result"
    }
   ],
   "source": [
    "total_for_reg = pd.merge(controal_va, pd.merge(data_for_reg1, data_for_reg2, left_index=True, right_index=True),left_index=True, right_index=True)\n",
    "total_for_reg.head()"
   ]
  },
  {
   "cell_type": "code",
   "execution_count": 7,
   "metadata": {},
   "outputs": [],
   "source": [
    "total_for_reg = total_for_reg.rename(columns={'2022_투표율' : 'voterate2022', '남성_pop' :'manpopulation', '야당비율_2022' : 'outerpartyratio','50_pop' : 'over50population'})"
   ]
  },
  {
   "cell_type": "code",
   "execution_count": 8,
   "metadata": {},
   "outputs": [],
   "source": [
    "total_for_reg = total_for_reg[total_for_reg['voterate2022']!=0]"
   ]
  },
  {
   "cell_type": "code",
   "execution_count": 9,
   "metadata": {},
   "outputs": [
    {
     "data": {
      "text/html": [
       "<div>\n",
       "<style scoped>\n",
       "    .dataframe tbody tr th:only-of-type {\n",
       "        vertical-align: middle;\n",
       "    }\n",
       "\n",
       "    .dataframe tbody tr th {\n",
       "        vertical-align: top;\n",
       "    }\n",
       "\n",
       "    .dataframe thead th {\n",
       "        text-align: right;\n",
       "    }\n",
       "</style>\n",
       "<table border=\"1\" class=\"dataframe\">\n",
       "  <thead>\n",
       "    <tr style=\"text-align: right;\">\n",
       "      <th></th>\n",
       "      <th>manpopulation</th>\n",
       "      <th>voterate2022</th>\n",
       "      <th>outerpartyratio</th>\n",
       "      <th>over50population</th>\n",
       "      <th>NewFactor</th>\n",
       "      <th>factor1</th>\n",
       "      <th>factor2</th>\n",
       "      <th>factor3</th>\n",
       "      <th>factor4</th>\n",
       "    </tr>\n",
       "  </thead>\n",
       "  <tbody>\n",
       "    <tr>\n",
       "      <th>manpopulation</th>\n",
       "      <td>1.000000</td>\n",
       "      <td>-0.216940</td>\n",
       "      <td>0.027960</td>\n",
       "      <td>0.009800</td>\n",
       "      <td>0.210688</td>\n",
       "      <td>0.305103</td>\n",
       "      <td>0.083462</td>\n",
       "      <td>-0.361994</td>\n",
       "      <td>0.105317</td>\n",
       "    </tr>\n",
       "    <tr>\n",
       "      <th>voterate2022</th>\n",
       "      <td>-0.216940</td>\n",
       "      <td>1.000000</td>\n",
       "      <td>-0.357668</td>\n",
       "      <td>0.383407</td>\n",
       "      <td>0.444518</td>\n",
       "      <td>0.385499</td>\n",
       "      <td>0.098332</td>\n",
       "      <td>0.284259</td>\n",
       "      <td>-0.018168</td>\n",
       "    </tr>\n",
       "    <tr>\n",
       "      <th>outerpartyratio</th>\n",
       "      <td>0.027960</td>\n",
       "      <td>-0.357668</td>\n",
       "      <td>1.000000</td>\n",
       "      <td>0.037183</td>\n",
       "      <td>-0.100403</td>\n",
       "      <td>-0.025505</td>\n",
       "      <td>0.079262</td>\n",
       "      <td>0.015480</td>\n",
       "      <td>-0.038334</td>\n",
       "    </tr>\n",
       "    <tr>\n",
       "      <th>over50population</th>\n",
       "      <td>0.009800</td>\n",
       "      <td>0.383407</td>\n",
       "      <td>0.037183</td>\n",
       "      <td>1.000000</td>\n",
       "      <td>0.910463</td>\n",
       "      <td>0.584560</td>\n",
       "      <td>0.342941</td>\n",
       "      <td>0.583062</td>\n",
       "      <td>0.271203</td>\n",
       "    </tr>\n",
       "    <tr>\n",
       "      <th>NewFactor</th>\n",
       "      <td>0.210688</td>\n",
       "      <td>0.444518</td>\n",
       "      <td>-0.100403</td>\n",
       "      <td>0.910463</td>\n",
       "      <td>1.000000</td>\n",
       "      <td>0.777809</td>\n",
       "      <td>0.275286</td>\n",
       "      <td>0.368925</td>\n",
       "      <td>0.271180</td>\n",
       "    </tr>\n",
       "    <tr>\n",
       "      <th>factor1</th>\n",
       "      <td>0.305103</td>\n",
       "      <td>0.385499</td>\n",
       "      <td>-0.025505</td>\n",
       "      <td>0.584560</td>\n",
       "      <td>0.777809</td>\n",
       "      <td>1.000000</td>\n",
       "      <td>0.006001</td>\n",
       "      <td>0.003743</td>\n",
       "      <td>0.015904</td>\n",
       "    </tr>\n",
       "    <tr>\n",
       "      <th>factor2</th>\n",
       "      <td>0.083462</td>\n",
       "      <td>0.098332</td>\n",
       "      <td>0.079262</td>\n",
       "      <td>0.342941</td>\n",
       "      <td>0.275286</td>\n",
       "      <td>0.006001</td>\n",
       "      <td>1.000000</td>\n",
       "      <td>0.006241</td>\n",
       "      <td>0.027177</td>\n",
       "    </tr>\n",
       "    <tr>\n",
       "      <th>factor3</th>\n",
       "      <td>-0.361994</td>\n",
       "      <td>0.284259</td>\n",
       "      <td>0.015480</td>\n",
       "      <td>0.583062</td>\n",
       "      <td>0.368925</td>\n",
       "      <td>0.003743</td>\n",
       "      <td>0.006241</td>\n",
       "      <td>1.000000</td>\n",
       "      <td>0.020454</td>\n",
       "    </tr>\n",
       "    <tr>\n",
       "      <th>factor4</th>\n",
       "      <td>0.105317</td>\n",
       "      <td>-0.018168</td>\n",
       "      <td>-0.038334</td>\n",
       "      <td>0.271203</td>\n",
       "      <td>0.271180</td>\n",
       "      <td>0.015904</td>\n",
       "      <td>0.027177</td>\n",
       "      <td>0.020454</td>\n",
       "      <td>1.000000</td>\n",
       "    </tr>\n",
       "  </tbody>\n",
       "</table>\n",
       "</div>"
      ],
      "text/plain": [
       "                  manpopulation  voterate2022  outerpartyratio  \\\n",
       "manpopulation          1.000000     -0.216940         0.027960   \n",
       "voterate2022          -0.216940      1.000000        -0.357668   \n",
       "outerpartyratio        0.027960     -0.357668         1.000000   \n",
       "over50population       0.009800      0.383407         0.037183   \n",
       "NewFactor              0.210688      0.444518        -0.100403   \n",
       "factor1                0.305103      0.385499        -0.025505   \n",
       "factor2                0.083462      0.098332         0.079262   \n",
       "factor3               -0.361994      0.284259         0.015480   \n",
       "factor4                0.105317     -0.018168        -0.038334   \n",
       "\n",
       "                  over50population  NewFactor   factor1   factor2   factor3  \\\n",
       "manpopulation             0.009800   0.210688  0.305103  0.083462 -0.361994   \n",
       "voterate2022              0.383407   0.444518  0.385499  0.098332  0.284259   \n",
       "outerpartyratio           0.037183  -0.100403 -0.025505  0.079262  0.015480   \n",
       "over50population          1.000000   0.910463  0.584560  0.342941  0.583062   \n",
       "NewFactor                 0.910463   1.000000  0.777809  0.275286  0.368925   \n",
       "factor1                   0.584560   0.777809  1.000000  0.006001  0.003743   \n",
       "factor2                   0.342941   0.275286  0.006001  1.000000  0.006241   \n",
       "factor3                   0.583062   0.368925  0.003743  0.006241  1.000000   \n",
       "factor4                   0.271203   0.271180  0.015904  0.027177  0.020454   \n",
       "\n",
       "                   factor4  \n",
       "manpopulation     0.105317  \n",
       "voterate2022     -0.018168  \n",
       "outerpartyratio  -0.038334  \n",
       "over50population  0.271203  \n",
       "NewFactor         0.271180  \n",
       "factor1           0.015904  \n",
       "factor2           0.027177  \n",
       "factor3           0.020454  \n",
       "factor4           1.000000  "
      ]
     },
     "execution_count": 9,
     "metadata": {},
     "output_type": "execute_result"
    }
   ],
   "source": [
    "pd.DataFrame(np.corrcoef(total_for_reg.T), index= total_for_reg.columns, columns=total_for_reg.columns)"
   ]
  },
  {
   "cell_type": "code",
   "execution_count": 10,
   "metadata": {},
   "outputs": [
    {
     "data": {
      "text/html": [
       "<div>\n",
       "<style scoped>\n",
       "    .dataframe tbody tr th:only-of-type {\n",
       "        vertical-align: middle;\n",
       "    }\n",
       "\n",
       "    .dataframe tbody tr th {\n",
       "        vertical-align: top;\n",
       "    }\n",
       "\n",
       "    .dataframe thead th {\n",
       "        text-align: right;\n",
       "    }\n",
       "</style>\n",
       "<table border=\"1\" class=\"dataframe\">\n",
       "  <thead>\n",
       "    <tr style=\"text-align: right;\">\n",
       "      <th></th>\n",
       "      <th>manpopulation</th>\n",
       "      <th>voterate2022</th>\n",
       "      <th>outerpartyratio</th>\n",
       "      <th>over50population</th>\n",
       "      <th>NewFactor</th>\n",
       "      <th>factor1</th>\n",
       "      <th>factor2</th>\n",
       "      <th>factor3</th>\n",
       "      <th>factor4</th>\n",
       "    </tr>\n",
       "  </thead>\n",
       "  <tbody>\n",
       "    <tr>\n",
       "      <th>과천시</th>\n",
       "      <td>0.493063</td>\n",
       "      <td>0.848890</td>\n",
       "      <td>0.607634</td>\n",
       "      <td>0.401510</td>\n",
       "      <td>-0.923740</td>\n",
       "      <td>-0.838301</td>\n",
       "      <td>2.090343</td>\n",
       "      <td>0.189001</td>\n",
       "      <td>-1.843089</td>\n",
       "    </tr>\n",
       "    <tr>\n",
       "      <th>구례군</th>\n",
       "      <td>0.481035</td>\n",
       "      <td>0.840228</td>\n",
       "      <td>0.148848</td>\n",
       "      <td>0.660454</td>\n",
       "      <td>1.476348</td>\n",
       "      <td>0.260288</td>\n",
       "      <td>0.491005</td>\n",
       "      <td>0.810258</td>\n",
       "      <td>0.353661</td>\n",
       "    </tr>\n",
       "    <tr>\n",
       "      <th>군위군</th>\n",
       "      <td>0.513460</td>\n",
       "      <td>0.837266</td>\n",
       "      <td>0.861033</td>\n",
       "      <td>0.738519</td>\n",
       "      <td>1.976585</td>\n",
       "      <td>2.223835</td>\n",
       "      <td>0.439393</td>\n",
       "      <td>1.153754</td>\n",
       "      <td>-0.792273</td>\n",
       "    </tr>\n",
       "    <tr>\n",
       "      <th>담양군</th>\n",
       "      <td>0.495753</td>\n",
       "      <td>0.830543</td>\n",
       "      <td>0.124221</td>\n",
       "      <td>0.615753</td>\n",
       "      <td>0.941064</td>\n",
       "      <td>0.338242</td>\n",
       "      <td>0.416990</td>\n",
       "      <td>0.363701</td>\n",
       "      <td>0.507277</td>\n",
       "    </tr>\n",
       "    <tr>\n",
       "      <th>순창군</th>\n",
       "      <td>0.483970</td>\n",
       "      <td>0.833606</td>\n",
       "      <td>0.137502</td>\n",
       "      <td>0.629388</td>\n",
       "      <td>1.606470</td>\n",
       "      <td>0.237626</td>\n",
       "      <td>0.251562</td>\n",
       "      <td>0.568852</td>\n",
       "      <td>0.552671</td>\n",
       "    </tr>\n",
       "    <tr>\n",
       "      <th>신안군</th>\n",
       "      <td>0.532324</td>\n",
       "      <td>0.830505</td>\n",
       "      <td>0.116487</td>\n",
       "      <td>0.693505</td>\n",
       "      <td>2.716966</td>\n",
       "      <td>3.367897</td>\n",
       "      <td>-0.056316</td>\n",
       "      <td>2.026799</td>\n",
       "      <td>-2.400013</td>\n",
       "    </tr>\n",
       "    <tr>\n",
       "      <th>영양군</th>\n",
       "      <td>0.493765</td>\n",
       "      <td>0.826212</td>\n",
       "      <td>0.766003</td>\n",
       "      <td>0.692021</td>\n",
       "      <td>1.984396</td>\n",
       "      <td>1.605050</td>\n",
       "      <td>0.493138</td>\n",
       "      <td>1.129428</td>\n",
       "      <td>-0.638433</td>\n",
       "    </tr>\n",
       "    <tr>\n",
       "      <th>의성군</th>\n",
       "      <td>0.485184</td>\n",
       "      <td>0.828495</td>\n",
       "      <td>0.834419</td>\n",
       "      <td>0.728639</td>\n",
       "      <td>1.736672</td>\n",
       "      <td>1.187960</td>\n",
       "      <td>0.165248</td>\n",
       "      <td>2.113776</td>\n",
       "      <td>0.058947</td>\n",
       "    </tr>\n",
       "    <tr>\n",
       "      <th>임실군</th>\n",
       "      <td>0.503060</td>\n",
       "      <td>0.829281</td>\n",
       "      <td>0.148390</td>\n",
       "      <td>0.644773</td>\n",
       "      <td>1.849495</td>\n",
       "      <td>1.526692</td>\n",
       "      <td>0.225261</td>\n",
       "      <td>0.673251</td>\n",
       "      <td>0.186012</td>\n",
       "    </tr>\n",
       "    <tr>\n",
       "      <th>장수군</th>\n",
       "      <td>0.495254</td>\n",
       "      <td>0.837850</td>\n",
       "      <td>0.156363</td>\n",
       "      <td>0.640270</td>\n",
       "      <td>1.950512</td>\n",
       "      <td>2.229313</td>\n",
       "      <td>0.651105</td>\n",
       "      <td>-0.605433</td>\n",
       "      <td>-1.117090</td>\n",
       "    </tr>\n",
       "    <tr>\n",
       "      <th>장흥군</th>\n",
       "      <td>0.486868</td>\n",
       "      <td>0.826853</td>\n",
       "      <td>0.121332</td>\n",
       "      <td>0.638320</td>\n",
       "      <td>1.407835</td>\n",
       "      <td>0.384001</td>\n",
       "      <td>0.250136</td>\n",
       "      <td>1.453629</td>\n",
       "      <td>-0.028072</td>\n",
       "    </tr>\n",
       "    <tr>\n",
       "      <th>진안군</th>\n",
       "      <td>0.498726</td>\n",
       "      <td>0.835475</td>\n",
       "      <td>0.162901</td>\n",
       "      <td>0.667913</td>\n",
       "      <td>2.499413</td>\n",
       "      <td>3.748672</td>\n",
       "      <td>0.487738</td>\n",
       "      <td>-1.019766</td>\n",
       "      <td>-1.179649</td>\n",
       "    </tr>\n",
       "  </tbody>\n",
       "</table>\n",
       "</div>"
      ],
      "text/plain": [
       "     manpopulation  voterate2022  outerpartyratio  over50population  \\\n",
       "과천시       0.493063      0.848890         0.607634          0.401510   \n",
       "구례군       0.481035      0.840228         0.148848          0.660454   \n",
       "군위군       0.513460      0.837266         0.861033          0.738519   \n",
       "담양군       0.495753      0.830543         0.124221          0.615753   \n",
       "순창군       0.483970      0.833606         0.137502          0.629388   \n",
       "신안군       0.532324      0.830505         0.116487          0.693505   \n",
       "영양군       0.493765      0.826212         0.766003          0.692021   \n",
       "의성군       0.485184      0.828495         0.834419          0.728639   \n",
       "임실군       0.503060      0.829281         0.148390          0.644773   \n",
       "장수군       0.495254      0.837850         0.156363          0.640270   \n",
       "장흥군       0.486868      0.826853         0.121332          0.638320   \n",
       "진안군       0.498726      0.835475         0.162901          0.667913   \n",
       "\n",
       "     NewFactor   factor1   factor2   factor3   factor4  \n",
       "과천시  -0.923740 -0.838301  2.090343  0.189001 -1.843089  \n",
       "구례군   1.476348  0.260288  0.491005  0.810258  0.353661  \n",
       "군위군   1.976585  2.223835  0.439393  1.153754 -0.792273  \n",
       "담양군   0.941064  0.338242  0.416990  0.363701  0.507277  \n",
       "순창군   1.606470  0.237626  0.251562  0.568852  0.552671  \n",
       "신안군   2.716966  3.367897 -0.056316  2.026799 -2.400013  \n",
       "영양군   1.984396  1.605050  0.493138  1.129428 -0.638433  \n",
       "의성군   1.736672  1.187960  0.165248  2.113776  0.058947  \n",
       "임실군   1.849495  1.526692  0.225261  0.673251  0.186012  \n",
       "장수군   1.950512  2.229313  0.651105 -0.605433 -1.117090  \n",
       "장흥군   1.407835  0.384001  0.250136  1.453629 -0.028072  \n",
       "진안군   2.499413  3.748672  0.487738 -1.019766 -1.179649  "
      ]
     },
     "execution_count": 10,
     "metadata": {},
     "output_type": "execute_result"
    }
   ],
   "source": [
    "total_for_reg[total_for_reg['voterate2022']>total_for_reg['voterate2022'].quantile(0.95)]"
   ]
  },
  {
   "cell_type": "code",
   "execution_count": 11,
   "metadata": {},
   "outputs": [
    {
     "data": {
      "text/plain": [
       "array([[<AxesSubplot:title={'center':'manpopulation'}>,\n",
       "        <AxesSubplot:title={'center':'voterate2022'}>,\n",
       "        <AxesSubplot:title={'center':'outerpartyratio'}>],\n",
       "       [<AxesSubplot:title={'center':'over50population'}>,\n",
       "        <AxesSubplot:title={'center':'NewFactor'}>,\n",
       "        <AxesSubplot:title={'center':'factor1'}>],\n",
       "       [<AxesSubplot:title={'center':'factor2'}>,\n",
       "        <AxesSubplot:title={'center':'factor3'}>,\n",
       "        <AxesSubplot:title={'center':'factor4'}>]], dtype=object)"
      ]
     },
     "execution_count": 11,
     "metadata": {},
     "output_type": "execute_result"
    },
    {
     "data": {
      "image/png": "[encoded data removed]",
      "text/plain": [
       "<Figure size 2000x1500 with 9 Axes>"
      ]
     },
     "metadata": {},
     "output_type": "display_data"
    }
   ],
   "source": [
    "total_for_reg.hist(bins=50, figsize=(20,15))"
   ]
  },
  {
   "cell_type": "code",
   "execution_count": 12,
   "metadata": {},
   "outputs": [
    {
     "data": {
      "text/html": [
       "<div>\n",
       "<style scoped>\n",
       "    .dataframe tbody tr th:only-of-type {\n",
       "        vertical-align: middle;\n",
       "    }\n",
       "\n",
       "    .dataframe tbody tr th {\n",
       "        vertical-align: top;\n",
       "    }\n",
       "\n",
       "    .dataframe thead th {\n",
       "        text-align: right;\n",
       "    }\n",
       "</style>\n",
       "<table border=\"1\" class=\"dataframe\">\n",
       "  <thead>\n",
       "    <tr style=\"text-align: right;\">\n",
       "      <th></th>\n",
       "      <th>manpopulation</th>\n",
       "      <th>voterate2022</th>\n",
       "      <th>outerpartyratio</th>\n",
       "      <th>over50population</th>\n",
       "      <th>NewFactor</th>\n",
       "      <th>factor1</th>\n",
       "      <th>factor2</th>\n",
       "      <th>factor3</th>\n",
       "      <th>factor4</th>\n",
       "    </tr>\n",
       "  </thead>\n",
       "  <tbody>\n",
       "    <tr>\n",
       "      <th>가평군</th>\n",
       "      <td>0.512024</td>\n",
       "      <td>0.764357</td>\n",
       "      <td>0.603225</td>\n",
       "      <td>0.566721</td>\n",
       "      <td>0.556088</td>\n",
       "      <td>1.570255</td>\n",
       "      <td>0.714038</td>\n",
       "      <td>-1.182049</td>\n",
       "      <td>1.287469</td>\n",
       "    </tr>\n",
       "    <tr>\n",
       "      <th>강릉시</th>\n",
       "      <td>0.500203</td>\n",
       "      <td>0.762683</td>\n",
       "      <td>0.612755</td>\n",
       "      <td>0.480245</td>\n",
       "      <td>-0.270361</td>\n",
       "      <td>-0.313803</td>\n",
       "      <td>-0.484991</td>\n",
       "      <td>0.204273</td>\n",
       "      <td>0.496674</td>\n",
       "    </tr>\n",
       "    <tr>\n",
       "      <th>강진군</th>\n",
       "      <td>0.485489</td>\n",
       "      <td>0.824524</td>\n",
       "      <td>0.146723</td>\n",
       "      <td>0.643763</td>\n",
       "      <td>1.510306</td>\n",
       "      <td>0.460763</td>\n",
       "      <td>0.087739</td>\n",
       "      <td>1.625572</td>\n",
       "      <td>1.066558</td>\n",
       "    </tr>\n",
       "    <tr>\n",
       "      <th>거제시</th>\n",
       "      <td>0.531861</td>\n",
       "      <td>0.749616</td>\n",
       "      <td>0.553038</td>\n",
       "      <td>0.360444</td>\n",
       "      <td>-0.579075</td>\n",
       "      <td>-0.887245</td>\n",
       "      <td>0.298740</td>\n",
       "      <td>-1.447908</td>\n",
       "      <td>1.792103</td>\n",
       "    </tr>\n",
       "    <tr>\n",
       "      <th>거창군</th>\n",
       "      <td>0.495138</td>\n",
       "      <td>0.780392</td>\n",
       "      <td>0.707828</td>\n",
       "      <td>0.567560</td>\n",
       "      <td>0.701705</td>\n",
       "      <td>-0.578207</td>\n",
       "      <td>0.492551</td>\n",
       "      <td>0.663532</td>\n",
       "      <td>0.408516</td>\n",
       "    </tr>\n",
       "  </tbody>\n",
       "</table>\n",
       "</div>"
      ],
      "text/plain": [
       "     manpopulation  voterate2022  outerpartyratio  over50population  \\\n",
       "가평군       0.512024      0.764357         0.603225          0.566721   \n",
       "강릉시       0.500203      0.762683         0.612755          0.480245   \n",
       "강진군       0.485489      0.824524         0.146723          0.643763   \n",
       "거제시       0.531861      0.749616         0.553038          0.360444   \n",
       "거창군       0.495138      0.780392         0.707828          0.567560   \n",
       "\n",
       "     NewFactor   factor1   factor2   factor3   factor4  \n",
       "가평군   0.556088  1.570255  0.714038 -1.182049  1.287469  \n",
       "강릉시  -0.270361 -0.313803 -0.484991  0.204273  0.496674  \n",
       "강진군   1.510306  0.460763  0.087739  1.625572  1.066558  \n",
       "거제시  -0.579075 -0.887245  0.298740 -1.447908  1.792103  \n",
       "거창군   0.701705 -0.578207  0.492551  0.663532  0.408516  "
      ]
     },
     "execution_count": 12,
     "metadata": {},
     "output_type": "execute_result"
    }
   ],
   "source": [
    "total_for_reg.head()"
   ]
  },
  {
   "cell_type": "code",
   "execution_count": 13,
   "metadata": {},
   "outputs": [
    {
     "name": "stdout",
     "output_type": "stream",
     "text": [
      "                            OLS Regression Results                            \n",
      "==============================================================================\n",
      "Dep. Variable:           voterate2022   R-squared:                       0.237\n",
      "Model:                            OLS   Adj. R-squared:                  0.228\n",
      "Method:                 Least Squares   F-statistic:                     23.88\n",
      "Date:                Thu, 18 May 2023   Prob (F-statistic):           1.72e-13\n",
      "Time:                        16:11:51   Log-Likelihood:                 521.08\n",
      "No. Observations:                 234   AIC:                            -1034.\n",
      "Df Residuals:                     230   BIC:                            -1020.\n",
      "Df Model:                           3                                         \n",
      "Covariance Type:            nonrobust                                         \n",
      "==============================================================================\n",
      "                 coef    std err          t      P>|t|      [0.025      0.975]\n",
      "------------------------------------------------------------------------------\n",
      "Intercept      0.7771      0.002    451.394      0.000       0.774       0.780\n",
      "factor1        0.0116      0.002      6.667      0.000       0.008       0.015\n",
      "factor2        0.0028      0.002      1.637      0.103      -0.001       0.006\n",
      "factor3        0.0085      0.002      4.902      0.000       0.005       0.012\n",
      "==============================================================================\n",
      "Omnibus:                        3.859   Durbin-Watson:                   1.610\n",
      "Prob(Omnibus):                  0.145   Jarque-Bera (JB):                2.964\n",
      "Skew:                           0.145   Prob(JB):                        0.227\n",
      "Kurtosis:                       2.532   Cond. No.                         1.02\n",
      "==============================================================================\n",
      "\n",
      "Notes:\n",
      "[1] Standard Errors assume that the covariance matrix of the errors is correctly specified.\n"
     ]
    }
   ],
   "source": [
    "model1 = smf.ols('voterate2022 ~ factor1 + factor2 + factor3', data = total_for_reg).fit()\n",
    "print(model1.summary())"
   ]
  },
  {
   "cell_type": "code",
   "execution_count": 14,
   "metadata": {},
   "outputs": [
    {
     "name": "stdout",
     "output_type": "stream",
     "text": [
      "                            OLS Regression Results                            \n",
      "==============================================================================\n",
      "Dep. Variable:           voterate2022   R-squared:                       0.439\n",
      "Model:                            OLS   Adj. R-squared:                  0.424\n",
      "Method:                 Least Squares   F-statistic:                     29.59\n",
      "Date:                Thu, 18 May 2023   Prob (F-statistic):           4.30e-26\n",
      "Time:                        16:11:51   Log-Likelihood:                 556.96\n",
      "No. Observations:                 234   AIC:                            -1100.\n",
      "Df Residuals:                     227   BIC:                            -1076.\n",
      "Df Model:                           6                                         \n",
      "Covariance Type:            nonrobust                                         \n",
      "====================================================================================\n",
      "                       coef    std err          t      P>|t|      [0.025      0.975]\n",
      "------------------------------------------------------------------------------------\n",
      "Intercept            1.0936      0.054     20.310      0.000       0.988       1.200\n",
      "factor1              0.0164      0.002      6.620      0.000       0.012       0.021\n",
      "factor2              0.0058      0.002      3.099      0.002       0.002       0.009\n",
      "factor3              0.0078      0.003      3.094      0.002       0.003       0.013\n",
      "manpopulation       -0.5394      0.104     -5.173      0.000      -0.745      -0.334\n",
      "outerpartyratio     -0.0531      0.008     -7.001      0.000      -0.068      -0.038\n",
      "over50population    -0.0361      0.029     -1.231      0.219      -0.094       0.022\n",
      "==============================================================================\n",
      "Omnibus:                        4.150   Durbin-Watson:                   1.595\n",
      "Prob(Omnibus):                  0.126   Jarque-Bera (JB):                2.681\n",
      "Skew:                          -0.026   Prob(JB):                        0.262\n",
      "Kurtosis:                       2.478   Cond. No.                         105.\n",
      "==============================================================================\n",
      "\n",
      "Notes:\n",
      "[1] Standard Errors assume that the covariance matrix of the errors is correctly specified.\n"
     ]
    }
   ],
   "source": [
    "model2 = smf.ols('voterate2022 ~ factor1 + factor2 + factor3 + manpopulation + outerpartyratio + over50population', data = total_for_reg).fit()\n",
    "print(model2.summary())"
   ]
  },
  {
   "cell_type": "code",
   "execution_count": 15,
   "metadata": {},
   "outputs": [
    {
     "name": "stdout",
     "output_type": "stream",
     "text": [
      "                            OLS Regression Results                            \n",
      "==============================================================================\n",
      "Dep. Variable:           voterate2022   R-squared:                       0.198\n",
      "Model:                            OLS   Adj. R-squared:                  0.194\n",
      "Method:                 Least Squares   F-statistic:                     57.13\n",
      "Date:                Thu, 18 May 2023   Prob (F-statistic):           9.40e-13\n",
      "Time:                        16:11:51   Log-Likelihood:                 515.11\n",
      "No. Observations:                 234   AIC:                            -1026.\n",
      "Df Residuals:                     232   BIC:                            -1019.\n",
      "Df Model:                           1                                         \n",
      "Covariance Type:            nonrobust                                         \n",
      "==============================================================================\n",
      "                 coef    std err          t      P>|t|      [0.025      0.975]\n",
      "------------------------------------------------------------------------------\n",
      "Intercept      0.7770      0.002    441.861      0.000       0.774       0.780\n",
      "NewFactor      0.0133      0.002      7.559      0.000       0.010       0.017\n",
      "==============================================================================\n",
      "Omnibus:                        2.480   Durbin-Watson:                   1.591\n",
      "Prob(Omnibus):                  0.289   Jarque-Bera (JB):                1.881\n",
      "Skew:                           0.003   Prob(JB):                        0.390\n",
      "Kurtosis:                       2.561   Cond. No.                         1.03\n",
      "==============================================================================\n",
      "\n",
      "Notes:\n",
      "[1] Standard Errors assume that the covariance matrix of the errors is correctly specified.\n"
     ]
    }
   ],
   "source": [
    "model3 = smf.ols('voterate2022 ~ NewFactor', data = total_for_reg).fit()\n",
    "print(model3.summary())"
   ]
  },
  {
   "cell_type": "code",
   "execution_count": 16,
   "metadata": {},
   "outputs": [
    {
     "name": "stdout",
     "output_type": "stream",
     "text": [
      "                            OLS Regression Results                            \n",
      "==============================================================================\n",
      "Dep. Variable:           voterate2022   R-squared:                       0.401\n",
      "Model:                            OLS   Adj. R-squared:                  0.390\n",
      "Method:                 Least Squares   F-statistic:                     38.31\n",
      "Date:                Thu, 18 May 2023   Prob (F-statistic):           1.57e-24\n",
      "Time:                        16:11:51   Log-Likelihood:                 549.30\n",
      "No. Observations:                 234   AIC:                            -1089.\n",
      "Df Residuals:                     229   BIC:                            -1071.\n",
      "Df Model:                           4                                         \n",
      "Covariance Type:            nonrobust                                         \n",
      "====================================================================================\n",
      "                       coef    std err          t      P>|t|      [0.025      0.975]\n",
      "------------------------------------------------------------------------------------\n",
      "Intercept            1.1874      0.066     17.904      0.000       1.057       1.318\n",
      "NewFactor            0.0240      0.005      5.212      0.000       0.015       0.033\n",
      "manpopulation       -0.6889      0.110     -6.240      0.000      -0.906      -0.471\n",
      "outerpartyratio     -0.0386      0.008     -4.579      0.000      -0.055      -0.022\n",
      "over50population    -0.0895      0.040     -2.226      0.027      -0.169      -0.010\n",
      "==============================================================================\n",
      "Omnibus:                        0.315   Durbin-Watson:                   1.572\n",
      "Prob(Omnibus):                  0.854   Jarque-Bera (JB):                0.202\n",
      "Skew:                           0.070   Prob(JB):                        0.904\n",
      "Kurtosis:                       3.036   Cond. No.                         114.\n",
      "==============================================================================\n",
      "\n",
      "Notes:\n",
      "[1] Standard Errors assume that the covariance matrix of the errors is correctly specified.\n"
     ]
    }
   ],
   "source": [
    "model4 = smf.ols('voterate2022 ~ NewFactor + manpopulation + outerpartyratio + over50population', data = total_for_reg).fit()\n",
    "print(model4.summary())"
   ]
  },
  {
   "cell_type": "code",
   "execution_count": 17,
   "metadata": {},
   "outputs": [
    {
     "name": "stdout",
     "output_type": "stream",
     "text": [
      "                            OLS Regression Results                            \n",
      "==============================================================================\n",
      "Dep. Variable:           voterate2022   R-squared:                       0.414\n",
      "Model:                            OLS   Adj. R-squared:                  0.404\n",
      "Method:                 Least Squares   F-statistic:                     40.42\n",
      "Date:                Thu, 18 May 2023   Prob (F-statistic):           1.33e-25\n",
      "Time:                        16:11:51   Log-Likelihood:                 551.85\n",
      "No. Observations:                 234   AIC:                            -1094.\n",
      "Df Residuals:                     229   BIC:                            -1076.\n",
      "Df Model:                           4                                         \n",
      "Covariance Type:            nonrobust                                         \n",
      "===================================================================================\n",
      "                      coef    std err          t      P>|t|      [0.025      0.975]\n",
      "-----------------------------------------------------------------------------------\n",
      "Intercept           1.0631      0.053     20.054      0.000       0.959       1.168\n",
      "factor1             0.0139      0.002      8.614      0.000       0.011       0.017\n",
      "factor3             0.0056      0.002      3.399      0.001       0.002       0.009\n",
      "manpopulation      -0.5156      0.106     -4.883      0.000      -0.724      -0.308\n",
      "outerpartyratio    -0.0517      0.008     -6.728      0.000      -0.067      -0.037\n",
      "==============================================================================\n",
      "Omnibus:                        0.686   Durbin-Watson:                   1.568\n",
      "Prob(Omnibus):                  0.710   Jarque-Bera (JB):                0.813\n",
      "Skew:                           0.100   Prob(JB):                        0.666\n",
      "Kurtosis:                       2.793   Cond. No.                         96.7\n",
      "==============================================================================\n",
      "\n",
      "Notes:\n",
      "[1] Standard Errors assume that the covariance matrix of the errors is correctly specified.\n"
     ]
    }
   ],
   "source": [
    "model6 = smf.ols('voterate2022 ~ factor1 + factor3 + manpopulation + outerpartyratio', data = total_for_reg).fit()\n",
    "print(model6.summary())"
   ]
  },
  {
   "cell_type": "code",
   "execution_count": 18,
   "metadata": {},
   "outputs": [
    {
     "name": "stdout",
     "output_type": "stream",
     "text": [
      "                            OLS Regression Results                            \n",
      "==============================================================================\n",
      "Dep. Variable:           voterate2022   R-squared:                       0.408\n",
      "Model:                            OLS   Adj. R-squared:                  0.397\n",
      "Method:                 Least Squares   F-statistic:                     39.39\n",
      "Date:                Thu, 18 May 2023   Prob (F-statistic):           4.42e-25\n",
      "Time:                        16:11:51   Log-Likelihood:                 550.61\n",
      "No. Observations:                 234   AIC:                            -1091.\n",
      "Df Residuals:                     229   BIC:                            -1074.\n",
      "Df Model:                           4                                         \n",
      "Covariance Type:            nonrobust                                         \n",
      "===================================================================================\n",
      "                      coef    std err          t      P>|t|      [0.025      0.975]\n",
      "-----------------------------------------------------------------------------------\n",
      "Intercept           1.1448      0.049     23.132      0.000       1.047       1.242\n",
      "factor1             0.0147      0.002      9.136      0.000       0.012       0.018\n",
      "factor2             0.0046      0.002      3.002      0.003       0.002       0.008\n",
      "manpopulation      -0.6774      0.098     -6.881      0.000      -0.871      -0.483\n",
      "outerpartyratio    -0.0527      0.008     -6.797      0.000      -0.068      -0.037\n",
      "==============================================================================\n",
      "Omnibus:                        3.415   Durbin-Watson:                   1.692\n",
      "Prob(Omnibus):                  0.181   Jarque-Bera (JB):                2.429\n",
      "Skew:                          -0.067   Prob(JB):                        0.297\n",
      "Kurtosis:                       2.519   Cond. No.                         89.7\n",
      "==============================================================================\n",
      "\n",
      "Notes:\n",
      "[1] Standard Errors assume that the covariance matrix of the errors is correctly specified.\n"
     ]
    }
   ],
   "source": [
    "model7 = smf.ols('voterate2022 ~ factor1 + factor2 + manpopulation + outerpartyratio', data = total_for_reg).fit()\n",
    "print(model7.summary())"
   ]
  },
  {
   "cell_type": "code",
   "execution_count": 19,
   "metadata": {},
   "outputs": [
    {
     "name": "stdout",
     "output_type": "stream",
     "text": [
      "                            OLS Regression Results                            \n",
      "==============================================================================\n",
      "Dep. Variable:           voterate2022   R-squared:                       0.242\n",
      "Model:                            OLS   Adj. R-squared:                  0.229\n",
      "Method:                 Least Squares   F-statistic:                     18.31\n",
      "Date:                Thu, 18 May 2023   Prob (F-statistic):           4.53e-13\n",
      "Time:                        16:11:51   Log-Likelihood:                 521.83\n",
      "No. Observations:                 234   AIC:                            -1034.\n",
      "Df Residuals:                     229   BIC:                            -1016.\n",
      "Df Model:                           4                                         \n",
      "Covariance Type:            nonrobust                                         \n",
      "===================================================================================\n",
      "                      coef    std err          t      P>|t|      [0.025      0.975]\n",
      "-----------------------------------------------------------------------------------\n",
      "Intercept           0.9268      0.057     16.197      0.000       0.814       1.040\n",
      "factor3             0.0073      0.002      3.916      0.000       0.004       0.011\n",
      "factor2             0.0041      0.002      2.364      0.019       0.001       0.008\n",
      "manpopulation      -0.2395      0.114     -2.105      0.036      -0.464      -0.015\n",
      "outerpartyratio    -0.0559      0.009     -6.385      0.000      -0.073      -0.039\n",
      "==============================================================================\n",
      "Omnibus:                        0.767   Durbin-Watson:                   1.549\n",
      "Prob(Omnibus):                  0.681   Jarque-Bera (JB):                0.846\n",
      "Skew:                          -0.132   Prob(JB):                        0.655\n",
      "Kurtosis:                       2.870   Cond. No.                         91.7\n",
      "==============================================================================\n",
      "\n",
      "Notes:\n",
      "[1] Standard Errors assume that the covariance matrix of the errors is correctly specified.\n"
     ]
    }
   ],
   "source": [
    "model8 = smf.ols('voterate2022 ~ factor3 + factor2 + manpopulation + outerpartyratio', data = total_for_reg).fit()\n",
    "print(model8.summary())"
   ]
  },
  {
   "attachments": {},
   "cell_type": "markdown",
   "metadata": {},
   "source": [
    "## 연령 효과 제거 모형"
   ]
  },
  {
   "cell_type": "code",
   "execution_count": 20,
   "metadata": {},
   "outputs": [],
   "source": [
    "import numpy as np\n",
    "import pandas as pd\n",
    "import statsmodels.api as sm\n",
    "import statsmodels.formula.api as smf\n",
    "import matplotlib as mpl\n",
    "import matplotlib.pyplot as plt"
   ]
  },
  {
   "cell_type": "code",
   "execution_count": 21,
   "metadata": {},
   "outputs": [],
   "source": [
    "data_for_reg2_1 = pd.read_excel(\"minus_factors_new_2.xlsx\", index_col= 0)\n",
    "data_for_reg2_2 = pd.read_excel(\"factors_2.xlsx\",index_col= 0)\n",
    "data_for_reg2_1.columns = ['NewFactor']\n",
    "data_for_control_2 = pd.read_excel(\"Re_t_new_merge.xlsx\",index_col= 0)\n",
    "data_for_reg2_1.index = data_for_control_2.index\n",
    "data_for_reg2_2.index = data_for_control_2.index"
   ]
  },
  {
   "cell_type": "code",
   "execution_count": 22,
   "metadata": {},
   "outputs": [],
   "source": [
    "data_for_control_2['남성_pop'] = data_for_control_2['남성_pop']/data_for_control_2['total_pop']"
   ]
  },
  {
   "cell_type": "code",
   "execution_count": 23,
   "metadata": {},
   "outputs": [],
   "source": [
    "controal_va_2 = data_for_control_2[['남성_pop', '2022_투표율', '야당비율_2022','65_pop', '50_pop']]"
   ]
  },
  {
   "cell_type": "code",
   "execution_count": 24,
   "metadata": {},
   "outputs": [
    {
     "data": {
      "text/plain": [
       "남성_pop       0\n",
       "2022_투표율     0\n",
       "야당비율_2022    0\n",
       "65_pop       0\n",
       "50_pop       0\n",
       "dtype: int64"
      ]
     },
     "execution_count": 24,
     "metadata": {},
     "output_type": "execute_result"
    }
   ],
   "source": [
    "np.isinf(data_for_control_2[['남성_pop', '2022_투표율','야당비율_2022', '65_pop', '50_pop']]).sum()"
   ]
  },
  {
   "cell_type": "code",
   "execution_count": 25,
   "metadata": {},
   "outputs": [
    {
     "data": {
      "text/html": [
       "<div>\n",
       "<style scoped>\n",
       "    .dataframe tbody tr th:only-of-type {\n",
       "        vertical-align: middle;\n",
       "    }\n",
       "\n",
       "    .dataframe tbody tr th {\n",
       "        vertical-align: top;\n",
       "    }\n",
       "\n",
       "    .dataframe thead th {\n",
       "        text-align: right;\n",
       "    }\n",
       "</style>\n",
       "<table border=\"1\" class=\"dataframe\">\n",
       "  <thead>\n",
       "    <tr style=\"text-align: right;\">\n",
       "      <th></th>\n",
       "      <th>남성_pop</th>\n",
       "      <th>2022_투표율</th>\n",
       "      <th>야당비율_2022</th>\n",
       "      <th>65_pop</th>\n",
       "      <th>50_pop</th>\n",
       "      <th>NewFactor</th>\n",
       "      <th>factor1</th>\n",
       "      <th>factor2</th>\n",
       "    </tr>\n",
       "  </thead>\n",
       "  <tbody>\n",
       "    <tr>\n",
       "      <th>가평군</th>\n",
       "      <td>0.512024</td>\n",
       "      <td>0.764357</td>\n",
       "      <td>0.603225</td>\n",
       "      <td>15926</td>\n",
       "      <td>0.566721</td>\n",
       "      <td>-0.512212</td>\n",
       "      <td>-1.092492</td>\n",
       "      <td>-0.537080</td>\n",
       "    </tr>\n",
       "    <tr>\n",
       "      <th>강릉시</th>\n",
       "      <td>0.500203</td>\n",
       "      <td>0.762683</td>\n",
       "      <td>0.612755</td>\n",
       "      <td>46318</td>\n",
       "      <td>0.480245</td>\n",
       "      <td>0.268668</td>\n",
       "      <td>0.541219</td>\n",
       "      <td>0.862675</td>\n",
       "    </tr>\n",
       "    <tr>\n",
       "      <th>강진군</th>\n",
       "      <td>0.485489</td>\n",
       "      <td>0.824524</td>\n",
       "      <td>0.146723</td>\n",
       "      <td>11466</td>\n",
       "      <td>0.643763</td>\n",
       "      <td>-1.467974</td>\n",
       "      <td>-0.742917</td>\n",
       "      <td>-0.065006</td>\n",
       "    </tr>\n",
       "    <tr>\n",
       "      <th>거제시</th>\n",
       "      <td>0.531861</td>\n",
       "      <td>0.749616</td>\n",
       "      <td>0.553038</td>\n",
       "      <td>28126</td>\n",
       "      <td>0.360444</td>\n",
       "      <td>0.409352</td>\n",
       "      <td>0.521138</td>\n",
       "      <td>-0.447486</td>\n",
       "    </tr>\n",
       "    <tr>\n",
       "      <th>거창군</th>\n",
       "      <td>0.495138</td>\n",
       "      <td>0.780392</td>\n",
       "      <td>0.707828</td>\n",
       "      <td>16921</td>\n",
       "      <td>0.567560</td>\n",
       "      <td>-0.721472</td>\n",
       "      <td>0.306059</td>\n",
       "      <td>-0.547548</td>\n",
       "    </tr>\n",
       "  </tbody>\n",
       "</table>\n",
       "</div>"
      ],
      "text/plain": [
       "       남성_pop  2022_투표율  야당비율_2022  65_pop    50_pop  NewFactor   factor1  \\\n",
       "가평군  0.512024  0.764357   0.603225   15926  0.566721  -0.512212 -1.092492   \n",
       "강릉시  0.500203  0.762683   0.612755   46318  0.480245   0.268668  0.541219   \n",
       "강진군  0.485489  0.824524   0.146723   11466  0.643763  -1.467974 -0.742917   \n",
       "거제시  0.531861  0.749616   0.553038   28126  0.360444   0.409352  0.521138   \n",
       "거창군  0.495138  0.780392   0.707828   16921  0.567560  -0.721472  0.306059   \n",
       "\n",
       "      factor2  \n",
       "가평군 -0.537080  \n",
       "강릉시  0.862675  \n",
       "강진군 -0.065006  \n",
       "거제시 -0.447486  \n",
       "거창군 -0.547548  "
      ]
     },
     "execution_count": 25,
     "metadata": {},
     "output_type": "execute_result"
    }
   ],
   "source": [
    "total_for_reg2 = pd.merge(controal_va_2, pd.merge(data_for_reg2_1, data_for_reg2_2, left_index=True, right_index=True),left_index=True, right_index=True)\n",
    "total_for_reg2.head()"
   ]
  },
  {
   "cell_type": "code",
   "execution_count": 26,
   "metadata": {},
   "outputs": [],
   "source": [
    "total_for_reg2 = total_for_reg2.rename(columns={'2022_투표율' : 'voterate2022', '남성_pop' :'manpopulation', '야당비율_2022' : 'outerpartyratio', '65_pop' : 'over65population',  '50_pop' : 'over50population'})"
   ]
  },
  {
   "cell_type": "code",
   "execution_count": 27,
   "metadata": {},
   "outputs": [],
   "source": [
    "total_for_reg2 = total_for_reg2[total_for_reg2['voterate2022']!=0]"
   ]
  },
  {
   "cell_type": "code",
   "execution_count": 28,
   "metadata": {},
   "outputs": [],
   "source": [
    "total_for_reg2 = total_for_reg2.drop([\"NewFactor\", \"over65population\"], axis=1)"
   ]
  },
  {
   "cell_type": "code",
   "execution_count": 29,
   "metadata": {},
   "outputs": [
    {
     "data": {
      "text/html": [
       "<div>\n",
       "<style scoped>\n",
       "    .dataframe tbody tr th:only-of-type {\n",
       "        vertical-align: middle;\n",
       "    }\n",
       "\n",
       "    .dataframe tbody tr th {\n",
       "        vertical-align: top;\n",
       "    }\n",
       "\n",
       "    .dataframe thead th {\n",
       "        text-align: right;\n",
       "    }\n",
       "</style>\n",
       "<table border=\"1\" class=\"dataframe\">\n",
       "  <thead>\n",
       "    <tr style=\"text-align: right;\">\n",
       "      <th></th>\n",
       "      <th>manpopulation</th>\n",
       "      <th>voterate2022</th>\n",
       "      <th>outerpartyratio</th>\n",
       "      <th>over50population</th>\n",
       "      <th>factor1</th>\n",
       "      <th>factor2</th>\n",
       "    </tr>\n",
       "  </thead>\n",
       "  <tbody>\n",
       "    <tr>\n",
       "      <th>manpopulation</th>\n",
       "      <td>1.000000</td>\n",
       "      <td>-0.216940</td>\n",
       "      <td>0.027960</td>\n",
       "      <td>0.009800</td>\n",
       "      <td>-0.303996</td>\n",
       "      <td>-0.079653</td>\n",
       "    </tr>\n",
       "    <tr>\n",
       "      <th>voterate2022</th>\n",
       "      <td>-0.216940</td>\n",
       "      <td>1.000000</td>\n",
       "      <td>-0.357668</td>\n",
       "      <td>0.383407</td>\n",
       "      <td>-0.407865</td>\n",
       "      <td>-0.104428</td>\n",
       "    </tr>\n",
       "    <tr>\n",
       "      <th>outerpartyratio</th>\n",
       "      <td>0.027960</td>\n",
       "      <td>-0.357668</td>\n",
       "      <td>1.000000</td>\n",
       "      <td>0.037183</td>\n",
       "      <td>0.053626</td>\n",
       "      <td>-0.100140</td>\n",
       "    </tr>\n",
       "    <tr>\n",
       "      <th>over50population</th>\n",
       "      <td>0.009800</td>\n",
       "      <td>0.383407</td>\n",
       "      <td>0.037183</td>\n",
       "      <td>1.000000</td>\n",
       "      <td>-0.632829</td>\n",
       "      <td>-0.330016</td>\n",
       "    </tr>\n",
       "    <tr>\n",
       "      <th>factor1</th>\n",
       "      <td>-0.303996</td>\n",
       "      <td>-0.407865</td>\n",
       "      <td>0.053626</td>\n",
       "      <td>-0.632829</td>\n",
       "      <td>1.000000</td>\n",
       "      <td>0.005973</td>\n",
       "    </tr>\n",
       "    <tr>\n",
       "      <th>factor2</th>\n",
       "      <td>-0.079653</td>\n",
       "      <td>-0.104428</td>\n",
       "      <td>-0.100140</td>\n",
       "      <td>-0.330016</td>\n",
       "      <td>0.005973</td>\n",
       "      <td>1.000000</td>\n",
       "    </tr>\n",
       "  </tbody>\n",
       "</table>\n",
       "</div>"
      ],
      "text/plain": [
       "                  manpopulation  voterate2022  outerpartyratio  \\\n",
       "manpopulation          1.000000     -0.216940         0.027960   \n",
       "voterate2022          -0.216940      1.000000        -0.357668   \n",
       "outerpartyratio        0.027960     -0.357668         1.000000   \n",
       "over50population       0.009800      0.383407         0.037183   \n",
       "factor1               -0.303996     -0.407865         0.053626   \n",
       "factor2               -0.079653     -0.104428        -0.100140   \n",
       "\n",
       "                  over50population   factor1   factor2  \n",
       "manpopulation             0.009800 -0.303996 -0.079653  \n",
       "voterate2022              0.383407 -0.407865 -0.104428  \n",
       "outerpartyratio           0.037183  0.053626 -0.100140  \n",
       "over50population          1.000000 -0.632829 -0.330016  \n",
       "factor1                  -0.632829  1.000000  0.005973  \n",
       "factor2                  -0.330016  0.005973  1.000000  "
      ]
     },
     "execution_count": 29,
     "metadata": {},
     "output_type": "execute_result"
    }
   ],
   "source": [
    "pd.DataFrame(np.corrcoef(total_for_reg2.T), index= total_for_reg2.columns, columns=total_for_reg2.columns)"
   ]
  },
  {
   "cell_type": "code",
   "execution_count": 30,
   "metadata": {},
   "outputs": [
    {
     "data": {
      "text/plain": [
       "array([[<AxesSubplot:title={'center':'manpopulation'}>,\n",
       "        <AxesSubplot:title={'center':'voterate2022'}>],\n",
       "       [<AxesSubplot:title={'center':'outerpartyratio'}>,\n",
       "        <AxesSubplot:title={'center':'over50population'}>],\n",
       "       [<AxesSubplot:title={'center':'factor1'}>,\n",
       "        <AxesSubplot:title={'center':'factor2'}>]], dtype=object)"
      ]
     },
     "execution_count": 30,
     "metadata": {},
     "output_type": "execute_result"
    },
    {
     "data": {
      "image/png": "[encoded data removed]",
      "text/plain": [
       "<Figure size 2000x1500 with 6 Axes>"
      ]
     },
     "metadata": {},
     "output_type": "display_data"
    }
   ],
   "source": [
    "total_for_reg2.hist(bins=50, figsize=(20,15))"
   ]
  },
  {
   "cell_type": "code",
   "execution_count": 31,
   "metadata": {},
   "outputs": [
    {
     "name": "stdout",
     "output_type": "stream",
     "text": [
      "                            OLS Regression Results                            \n",
      "==============================================================================\n",
      "Dep. Variable:           voterate2022   R-squared:                       0.177\n",
      "Model:                            OLS   Adj. R-squared:                  0.170\n",
      "Method:                 Least Squares   F-statistic:                     24.80\n",
      "Date:                Thu, 18 May 2023   Prob (F-statistic):           1.75e-10\n",
      "Time:                        16:11:54   Log-Likelihood:                 512.11\n",
      "No. Observations:                 234   AIC:                            -1018.\n",
      "Df Residuals:                     231   BIC:                            -1008.\n",
      "Df Model:                           2                                         \n",
      "Covariance Type:            nonrobust                                         \n",
      "==============================================================================\n",
      "                 coef    std err          t      P>|t|      [0.025      0.975]\n",
      "------------------------------------------------------------------------------\n",
      "Intercept      0.7772      0.002    435.415      0.000       0.774       0.781\n",
      "factor1       -0.0123      0.002     -6.822      0.000      -0.016      -0.009\n",
      "factor2       -0.0031      0.002     -1.709      0.089      -0.007       0.000\n",
      "==============================================================================\n",
      "Omnibus:                        1.395   Durbin-Watson:                   1.743\n",
      "Prob(Omnibus):                  0.498   Jarque-Bera (JB):                1.330\n",
      "Skew:                          -0.073   Prob(JB):                        0.514\n",
      "Kurtosis:                       2.661   Cond. No.                         1.02\n",
      "==============================================================================\n",
      "\n",
      "Notes:\n",
      "[1] Standard Errors assume that the covariance matrix of the errors is correctly specified.\n"
     ]
    }
   ],
   "source": [
    "model2_1 = smf.ols('voterate2022 ~ factor1 + factor2', data = total_for_reg2).fit()\n",
    "print(model2_1.summary())"
   ]
  },
  {
   "cell_type": "code",
   "execution_count": 32,
   "metadata": {},
   "outputs": [
    {
     "name": "stdout",
     "output_type": "stream",
     "text": [
      "                            OLS Regression Results                            \n",
      "==============================================================================\n",
      "Dep. Variable:           voterate2022   R-squared:                       0.425\n",
      "Model:                            OLS   Adj. R-squared:                  0.413\n",
      "Method:                 Least Squares   F-statistic:                     33.74\n",
      "Date:                Thu, 18 May 2023   Prob (F-statistic):           1.00e-25\n",
      "Time:                        16:11:54   Log-Likelihood:                 554.15\n",
      "No. Observations:                 234   AIC:                            -1096.\n",
      "Df Residuals:                     228   BIC:                            -1076.\n",
      "Df Model:                           5                                         \n",
      "Covariance Type:            nonrobust                                         \n",
      "====================================================================================\n",
      "                       coef    std err          t      P>|t|      [0.025      0.975]\n",
      "------------------------------------------------------------------------------------\n",
      "Intercept            1.1267      0.055     20.383      0.000       1.018       1.236\n",
      "factor1             -0.0139      0.002     -6.127      0.000      -0.018      -0.009\n",
      "factor2             -0.0043      0.002     -2.538      0.012      -0.008      -0.001\n",
      "manpopulation       -0.6590      0.102     -6.440      0.000      -0.861      -0.457\n",
      "outerpartyratio     -0.0515      0.008     -6.701      0.000      -0.067      -0.036\n",
      "over50population     0.0166      0.020      0.817      0.415      -0.023       0.057\n",
      "==============================================================================\n",
      "Omnibus:                        1.655   Durbin-Watson:                   1.662\n",
      "Prob(Omnibus):                  0.437   Jarque-Bera (JB):                1.423\n",
      "Skew:                          -0.007   Prob(JB):                        0.491\n",
      "Kurtosis:                       2.618   Cond. No.                         103.\n",
      "==============================================================================\n",
      "\n",
      "Notes:\n",
      "[1] Standard Errors assume that the covariance matrix of the errors is correctly specified.\n"
     ]
    }
   ],
   "source": [
    "model2_2 = smf.ols('voterate2022 ~ factor1 + factor2 + manpopulation + outerpartyratio + over50population', data = total_for_reg2).fit()\n",
    "print(model2_2.summary())"
   ]
  },
  {
   "cell_type": "code",
   "execution_count": 37,
   "metadata": {},
   "outputs": [
    {
     "data": {
      "text/plain": [
       "[<matplotlib.lines.Line2D at 0x19554c443a0>]"
      ]
     },
     "execution_count": 37,
     "metadata": {},
     "output_type": "execute_result"
    },
    {
     "data": {
      "image/png": "[encoded data removed]",
      "text/plain": [
       "<Figure size 640x480 with 1 Axes>"
      ]
     },
     "metadata": {},
     "output_type": "display_data"
    }
   ],
   "source": [
    "plt.plot(range(len(total_for_reg2.index)),model2_2.resid)"
   ]
  },
  {
   "cell_type": "code",
   "execution_count": 38,
   "metadata": {},
   "outputs": [],
   "source": [
    "import statsmodels.stats.api as sms\n",
    "test_result = sms.het_breuschpagan(model2_2.resid, model2_2.model.exog)"
   ]
  },
  {
   "cell_type": "code",
   "execution_count": 41,
   "metadata": {},
   "outputs": [
    {
     "data": {
      "text/html": [
       "<div>\n",
       "<style scoped>\n",
       "    .dataframe tbody tr th:only-of-type {\n",
       "        vertical-align: middle;\n",
       "    }\n",
       "\n",
       "    .dataframe tbody tr th {\n",
       "        vertical-align: top;\n",
       "    }\n",
       "\n",
       "    .dataframe thead th {\n",
       "        text-align: right;\n",
       "    }\n",
       "</style>\n",
       "<table border=\"1\" class=\"dataframe\">\n",
       "  <thead>\n",
       "    <tr style=\"text-align: right;\">\n",
       "      <th></th>\n",
       "      <th>0</th>\n",
       "      <th>1</th>\n",
       "    </tr>\n",
       "  </thead>\n",
       "  <tbody>\n",
       "    <tr>\n",
       "      <th>0</th>\n",
       "      <td>Lagrange multiplier statistic</td>\n",
       "      <td>17.264832</td>\n",
       "    </tr>\n",
       "    <tr>\n",
       "      <th>1</th>\n",
       "      <td>p-value</td>\n",
       "      <td>0.004024</td>\n",
       "    </tr>\n",
       "    <tr>\n",
       "      <th>2</th>\n",
       "      <td>f-value</td>\n",
       "      <td>3.632435</td>\n",
       "    </tr>\n",
       "    <tr>\n",
       "      <th>3</th>\n",
       "      <td>f p-value</td>\n",
       "      <td>0.003508</td>\n",
       "    </tr>\n",
       "  </tbody>\n",
       "</table>\n",
       "</div>"
      ],
      "text/plain": [
       "                               0          1\n",
       "0  Lagrange multiplier statistic  17.264832\n",
       "1                        p-value   0.004024\n",
       "2                        f-value   3.632435\n",
       "3                      f p-value   0.003508"
      ]
     },
     "execution_count": 41,
     "metadata": {},
     "output_type": "execute_result"
    }
   ],
   "source": [
    "from statsmodels.compat import lzip\n",
    "\n",
    "names = ['Lagrange multiplier statistic', 'p-value',\n",
    "         'f-value', 'f p-value']\n",
    "\n",
    "pd.DataFrame(lzip(names, test_result))"
   ]
  },
  {
   "cell_type": "code",
   "execution_count": 45,
   "metadata": {},
   "outputs": [
    {
     "name": "stdout",
     "output_type": "stream",
     "text": [
      "                            OLS Regression Results                            \n",
      "==============================================================================\n",
      "Dep. Variable:           voterate2022   R-squared:                       0.425\n",
      "Model:                            OLS   Adj. R-squared:                  0.413\n",
      "Method:                 Least Squares   F-statistic:                     51.44\n",
      "Date:                Thu, 18 May 2023   Prob (F-statistic):           1.48e-35\n",
      "Time:                        16:27:44   Log-Likelihood:                 554.15\n",
      "No. Observations:                 234   AIC:                            -1096.\n",
      "Df Residuals:                     228   BIC:                            -1076.\n",
      "Df Model:                           5                                         \n",
      "Covariance Type:                  HC3                                         \n",
      "====================================================================================\n",
      "                       coef    std err          z      P>|z|      [0.025      0.975]\n",
      "------------------------------------------------------------------------------------\n",
      "Intercept            1.1267      0.056     20.104      0.000       1.017       1.237\n",
      "factor1             -0.0139      0.002     -5.620      0.000      -0.019      -0.009\n",
      "factor2             -0.0043      0.002     -2.052      0.040      -0.008      -0.000\n",
      "manpopulation       -0.6590      0.105     -6.272      0.000      -0.865      -0.453\n",
      "outerpartyratio     -0.0515      0.007     -6.991      0.000      -0.066      -0.037\n",
      "over50population     0.0166      0.022      0.745      0.456      -0.027       0.060\n",
      "==============================================================================\n",
      "Omnibus:                        1.655   Durbin-Watson:                   1.662\n",
      "Prob(Omnibus):                  0.437   Jarque-Bera (JB):                1.423\n",
      "Skew:                          -0.007   Prob(JB):                        0.491\n",
      "Kurtosis:                       2.618   Cond. No.                         103.\n",
      "==============================================================================\n",
      "\n",
      "Notes:\n",
      "[1] Standard Errors are heteroscedasticity robust (HC3)\n"
     ]
    }
   ],
   "source": [
    "model2_2 = smf.ols('voterate2022 ~ factor1 + factor2 + manpopulation + outerpartyratio + over50population', data = total_for_reg2).fit(cov_type='HC3')\n",
    "print(model2_2.summary())"
   ]
  },
  {
   "cell_type": "code",
   "execution_count": 33,
   "metadata": {},
   "outputs": [
    {
     "name": "stdout",
     "output_type": "stream",
     "text": [
      "                            OLS Regression Results                            \n",
      "==============================================================================\n",
      "Dep. Variable:           voterate2022   R-squared:                       0.424\n",
      "Model:                            OLS   Adj. R-squared:                  0.413\n",
      "Method:                 Least Squares   F-statistic:                     42.07\n",
      "Date:                Thu, 18 May 2023   Prob (F-statistic):           2.00e-26\n",
      "Time:                        16:11:54   Log-Likelihood:                 553.81\n",
      "No. Observations:                 234   AIC:                            -1098.\n",
      "Df Residuals:                     229   BIC:                            -1080.\n",
      "Df Model:                           4                                         \n",
      "Covariance Type:            nonrobust                                         \n",
      "===================================================================================\n",
      "                      coef    std err          t      P>|t|      [0.025      0.975]\n",
      "-----------------------------------------------------------------------------------\n",
      "Intercept           1.1479      0.049     23.540      0.000       1.052       1.244\n",
      "factor1            -0.0152      0.002     -9.517      0.000      -0.018      -0.012\n",
      "factor2            -0.0050      0.002     -3.260      0.001      -0.008      -0.002\n",
      "manpopulation      -0.6853      0.097     -7.060      0.000      -0.876      -0.494\n",
      "outerpartyratio    -0.0511      0.008     -6.664      0.000      -0.066      -0.036\n",
      "==============================================================================\n",
      "Omnibus:                        2.012   Durbin-Watson:                   1.690\n",
      "Prob(Omnibus):                  0.366   Jarque-Bera (JB):                1.651\n",
      "Skew:                          -0.038   Prob(JB):                        0.438\n",
      "Kurtosis:                       2.595   Cond. No.                         89.7\n",
      "==============================================================================\n",
      "\n",
      "Notes:\n",
      "[1] Standard Errors assume that the covariance matrix of the errors is correctly specified.\n"
     ]
    }
   ],
   "source": [
    "model2_2_3 = smf.ols('voterate2022 ~ factor1 + factor2 + manpopulation + outerpartyratio', data = total_for_reg2).fit()\n",
    "print(model2_2_3.summary())"
   ]
  },
  {
   "cell_type": "code",
   "execution_count": null,
   "metadata": {},
   "outputs": [
    {
     "name": "stdout",
     "output_type": "stream",
     "text": [
      "                            OLS Regression Results                            \n",
      "==============================================================================\n",
      "Dep. Variable:           voterate2022   R-squared:                       0.409\n",
      "Model:                            OLS   Adj. R-squared:                  0.399\n",
      "Method:                 Least Squares   F-statistic:                     39.62\n",
      "Date:                Mon, 15 May 2023   Prob (F-statistic):           3.36e-25\n",
      "Time:                        21:44:08   Log-Likelihood:                 550.89\n",
      "No. Observations:                 234   AIC:                            -1092.\n",
      "Df Residuals:                     229   BIC:                            -1075.\n",
      "Df Model:                           4                                         \n",
      "Covariance Type:            nonrobust                                         \n",
      "====================================================================================\n",
      "                       coef    std err          t      P>|t|      [0.025      0.975]\n",
      "------------------------------------------------------------------------------------\n",
      "Intercept            1.0876      0.054     20.250      0.000       0.982       1.193\n",
      "factor1              0.0120      0.002      5.539      0.000       0.008       0.016\n",
      "manpopulation       -0.6050      0.101     -5.974      0.000      -0.805      -0.405\n",
      "outerpartyratio     -0.0505      0.008     -6.495      0.000      -0.066      -0.035\n",
      "over50population     0.0398      0.018      2.174      0.031       0.004       0.076\n",
      "==============================================================================\n",
      "Omnibus:                        0.525   Durbin-Watson:                   1.603\n",
      "Prob(Omnibus):                  0.769   Jarque-Bera (JB):                0.647\n",
      "Skew:                           0.096   Prob(JB):                        0.724\n",
      "Kurtosis:                       2.828   Cond. No.                         101.\n",
      "==============================================================================\n",
      "\n",
      "Notes:\n",
      "[1] Standard Errors assume that the covariance matrix of the errors is correctly specified.\n"
     ]
    }
   ],
   "source": [
    "model2_5 = smf.ols('voterate2022 ~ factor1 + manpopulation + outerpartyratio + over50population', data = total_for_reg2).fit()\n",
    "print(model2_5.summary())"
   ]
  },
  {
   "cell_type": "code",
   "execution_count": null,
   "metadata": {},
   "outputs": [
    {
     "name": "stdout",
     "output_type": "stream",
     "text": [
      "                            OLS Regression Results                            \n",
      "==============================================================================\n",
      "Dep. Variable:           voterate2022   R-squared:                       0.331\n",
      "Model:                            OLS   Adj. R-squared:                  0.319\n",
      "Method:                 Least Squares   F-statistic:                     28.28\n",
      "Date:                Mon, 15 May 2023   Prob (F-statistic):           4.26e-19\n",
      "Time:                        20:44:55   Log-Likelihood:                 536.32\n",
      "No. Observations:                 234   AIC:                            -1063.\n",
      "Df Residuals:                     229   BIC:                            -1045.\n",
      "Df Model:                           4                                         \n",
      "Covariance Type:            nonrobust                                         \n",
      "====================================================================================\n",
      "                       coef    std err          t      P>|t|      [0.025      0.975]\n",
      "------------------------------------------------------------------------------------\n",
      "Intercept            0.9506      0.051     18.697      0.000       0.850       1.051\n",
      "factor2             -0.0009      0.002     -0.517      0.605      -0.004       0.003\n",
      "over50population     0.1047      0.015      6.797      0.000       0.074       0.135\n",
      "manpopulation       -0.3906      0.100     -3.922      0.000      -0.587      -0.194\n",
      "outerpartyratio     -0.0560      0.008     -6.793      0.000      -0.072      -0.040\n",
      "==============================================================================\n",
      "Omnibus:                        0.113   Durbin-Watson:                   1.529\n",
      "Prob(Omnibus):                  0.945   Jarque-Bera (JB):                0.056\n",
      "Skew:                           0.038   Prob(JB):                        0.972\n",
      "Kurtosis:                       3.002   Cond. No.                         92.2\n",
      "==============================================================================\n",
      "\n",
      "Notes:\n",
      "[1] Standard Errors assume that the covariance matrix of the errors is correctly specified.\n"
     ]
    }
   ],
   "source": [
    "model2_6 = smf.ols('voterate2022 ~ factor2 + over50population + manpopulation + outerpartyratio', data = total_for_reg2).fit()\n",
    "print(model2_6.summary())"
   ]
  },
  {
   "cell_type": "code",
   "execution_count": null,
   "metadata": {},
   "outputs": [
    {
     "name": "stdout",
     "output_type": "stream",
     "text": [
      "                            OLS Regression Results                            \n",
      "==============================================================================\n",
      "Dep. Variable:           voterate2022   R-squared:                       0.330\n",
      "Model:                            OLS   Adj. R-squared:                  0.321\n",
      "Method:                 Least Squares   F-statistic:                     37.73\n",
      "Date:                Mon, 15 May 2023   Prob (F-statistic):           7.21e-20\n",
      "Time:                        21:44:12   Log-Likelihood:                 536.18\n",
      "No. Observations:                 234   AIC:                            -1064.\n",
      "Df Residuals:                     230   BIC:                            -1051.\n",
      "Df Model:                           3                                         \n",
      "Covariance Type:            nonrobust                                         \n",
      "====================================================================================\n",
      "                       coef    std err          t      P>|t|      [0.025      0.975]\n",
      "------------------------------------------------------------------------------------\n",
      "Intercept            0.9471      0.050     18.828      0.000       0.848       1.046\n",
      "over50population     0.1073      0.015      7.388      0.000       0.079       0.136\n",
      "manpopulation       -0.3865      0.099     -3.900      0.000      -0.582      -0.191\n",
      "outerpartyratio     -0.0556      0.008     -6.785      0.000      -0.072      -0.039\n",
      "==============================================================================\n",
      "Omnibus:                        0.264   Durbin-Watson:                   1.522\n",
      "Prob(Omnibus):                  0.876   Jarque-Bera (JB):                0.159\n",
      "Skew:                           0.062   Prob(JB):                        0.924\n",
      "Kurtosis:                       3.032   Cond. No.                         91.7\n",
      "==============================================================================\n",
      "\n",
      "Notes:\n",
      "[1] Standard Errors assume that the covariance matrix of the errors is correctly specified.\n"
     ]
    }
   ],
   "source": [
    "model2_7 = smf.ols('voterate2022 ~ over50population + manpopulation + outerpartyratio', data = total_for_reg2).fit()\n",
    "print(model2_7.summary())"
   ]
  }
 ],
 "metadata": {
  "kernelspec": {
   "display_name": "base",
   "language": "python",
   "name": "python3"
  },
  "language_info": {
   "codemirror_mode": {
    "name": "ipython",
    "version": 3
   },
   "file_extension": ".py",
   "mimetype": "text/x-python",
   "name": "python",
   "nbconvert_exporter": "python",
   "pygments_lexer": "ipython3",
   "version": "3.9.13"
  },
  "orig_nbformat": 4
 },
 "nbformat": 4,
 "nbformat_minor": 2
}
